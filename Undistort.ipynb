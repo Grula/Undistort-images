{
 "cells": [
  {
   "cell_type": "markdown",
   "metadata": {},
   "source": [
    "# Problem distorzije kod fotografija"
   ]
  },
  {
   "cell_type": "markdown",
   "metadata": {},
   "source": [
    "Do distorzije dolazi kada pokušavamo da kopiramo 3D svet u 2D sliku kamerom. Neki od primera distorzije možemo videti na slikama ispod.\n",
    "<br>\n",
    "<br>\n",
    "<img src=\"assets/example0_und.png\" width=\"400px\">\n",
    "<br>\n",
    "<img src=\"assets/example_und.png\" width=\"2500px\">"
   ]
  },
  {
   "cell_type": "markdown",
   "metadata": {},
   "source": [
    "Na ovim iskrivljenim slikama možete videti da su ivice traka savijene i nekako zaobljene ili ispružene prema spolja. Naš prvi korak u analizi kamere je da poništimo ovu distorziju kako bismo iz njih mogli da dobijemo tačne i korisne informacije."
   ]
  },
  {
   "cell_type": "markdown",
   "metadata": {},
   "source": [
    "# Zašto se javlja distorzija?"
   ]
  },
  {
   "cell_type": "markdown",
   "metadata": {},
   "source": [
    "Evo jednostavnog modela fotoaparata koji se zove **pinhole model**.\n",
    "<br>\n",
    "<img src=\"assets/why_dist.png\" width=\"700px\">\n",
    "<br>\n",
    "Kada kamera gleda predmet, ona gleda svet sličan onome kao naše oči. Usredsređivanjem svetlosti koja se odbija od objekata u svetu. U ovom slučaju, iako je mali otvor, fotoaparat fokusira svetlo koje se odbija na 3D saobraćajni znak i formira 2D sliku sa zadnje strane kamere.\n",
    "<br>\n",
    "<img src=\"assets/why_dist2.png\" width=\"700px\">\n",
    "<br>\n",
    "U matematici, transformacija iz 3D tačaka, $P(X,Y,Z) \\rightarrow p(x,y)$ vrši se matricom transformacije koja se naziva **matrica kamere(C)**, i mi ćemo je koristiti za kalibraciju kamere.\n",
    "Međutim, prave kamere ne koriste sitne rupice(**pinhole**), već koriste sočiva za fokusiranje na više svetlosnih zraka istovremeno, što im omogućava da brzo formiraju slike. Ali, sočiva takođe mogu uvesti distorziju."
   ]
  },
  {
   "cell_type": "markdown",
   "metadata": {},
   "source": [
    "# Vrste distorzija"
   ]
  },
  {
   "cell_type": "markdown",
   "metadata": {},
   "source": [
    "**Radialna distorzija**: Radialna distorzija je najčešći tip koji utiče na slike, u kojem su fotografije snimljene pravilnim linijama kamerom izgledale blago zakrivljene ili savijene.\n",
    "<br>\n",
    "**Tangencijalna distorzija**: Tangencijalno izobličenje nastaje uglavnom zato što sočiva nisu paralelno poravnana sa ravninom slike, zbog čega se slika malo produžuje ili naginje, zbog čega se predmeti prikazuju dalje ili čak bliže nego što zapravo jesu.\n",
    "<br>\n",
    "<img src=\"assets/types_dist.png\" width=\"800px\" alt=\"Radially Distorted by a camera\">\n",
    "<p style=\"text-align: center;\">Radialna distorzija</p>"
   ]
  },
  {
   "cell_type": "markdown",
   "metadata": {},
   "source": [
    "Dakle, da bi se smanjila distorzija, koriste se **Koeficijenti distorzije**, čije vrednosti odražavaju količinu radijalne i tangencijalne distorzije na slici i **matrica kamere** koja sadrži unutrašnje parametre koji su specifični za kameru. Sadrži informacije poput fokusne dužine $(f_x, f_y)$ i optičke centre $(c_x, c_y)$."
   ]
  },
  {
   "cell_type": "markdown",
   "metadata": {},
   "source": [
    "<p style=\"text-align: center;\"> $D = [k_1 k_2 p_1 p_2 k_3]$ </p>\n",
    "<p style=\"text-align: center;\"> $D = [k_1 k_2 p_1 p_2 k_3 k_4 s_{x1} s_{y1}]$ </p>\n",
    "<p style=\"text-align: center;\"> $$C =\\begin{pmatrix}\n",
    "f_x&0&c_x\\\\\n",
    "0&f_y&c_y\\\\\n",
    "0&0&1\n",
    "\\end{pmatrix},$$\n",
    " </p>"
   ]
  },
  {
   "cell_type": "markdown",
   "metadata": {},
   "source": [
    "U ovom projektu se radilo sa već datim koeficijentima distorzije i matrice kamere, pa nema potrebe da se oni  nalaze. Distorziju je na prvi pogled teško uočiti kao što se može videti sa primera\n",
    "\n",
    "\n",
    "<img src=\"assets/pic_1dis.JPG\" width=\"800px\">\n",
    "<p style=\"text-align: center;\">sa distorzijom</p>\n",
    "<br>\n",
    "<img src=\"assets/pic_1und.png\" width=\"800px\">\n",
    "<p style=\"text-align: center;\">bez distorzije</p>\n",
    "<br>\n",
    "Ali direktnim stavljanjem slike na sliku uočava se razlika:\n",
    "<br>\n",
    "<img src=\"assets/difference.gif\" width=\"800px\">\n"
   ]
  },
  {
   "cell_type": "markdown",
   "metadata": {},
   "source": [
    "Dataset(slike) nad kojima je radjenp popravljanje distorzije je sa https://www.eth3d.net/, uz slike se i dobijaju informacije o distorziji i matrici kamere. Takodje date su formule tranformacija koje se vrše nad slikama:\n",
    "    \n",
    "1) Ako je z-koordinata tačke manja ili jednaka nuli, tačka se neposmatra.\n",
    "\n",
    "2) Projekcija tačke na ravan virtuelne slike tako što se njene koordinate x i y podele sa z koordinatom, što rezultira nedistortovanim vrednostima x i y $(x_d, y_d)$ <br>\n",
    "<p style=\"text-align: center;\">\n",
    "   $ x_d = X/W \\\\\n",
    "    y_d = Y/W$\n",
    "</p>\n",
    "<br>\n",
    "3) Primenjujemo model jednakih udaljenih radijalnih distorzija da bi dobili\n",
    "<p style=\"text-align: center;\">\n",
    "   $ r = \\sqrt{x_d^2 + y_d^2}\\\\\n",
    "    \\theta = tan^{-1}(r)\n",
    "   $\n",
    "    $$\\begin{pmatrix}\n",
    "            u_d\\\\\n",
    "            v_d\n",
    "        \\end{pmatrix} =  {\\theta \\over r} \\begin{pmatrix}\n",
    "                                                x_d\\\\\n",
    "                                                y_d\n",
    "                                          \\end{pmatrix} $$\n",
    "</p>\n",
    "<br>\n",
    "\n",
    "4) Primenite dalju distorziju da bi dobili distorzovane normalizovane koordinate slike $(u_n, v_n)$\n",
    "<p style=\"text-align: center;\">\n",
    "   $ t_r = 1 + k_1 \\theta^2 + k_2 \\theta^4 + k_3 \\theta^6 + k_4 \\theta^8\\\\\n",
    "    u_n = u_d t_r + 2 p_1 u_d v_d + p_2(\\theta^2 + 2 u_d^2) + s_{x1} \\theta^2\\\\\n",
    "    v_n = v_d t_r + 2 p_2 u_d v_d + p_1(\\theta^2 + 2 v_d^2) + s_{y1} \\theta^2\\\\\n",
    "   $\n",
    "</p>\n",
    "<br>\n",
    "5) Kovertovati u koordiante piksela $(u,v)$\n",
    "<p style=\"text-align: center;\">\n",
    "   $\n",
    "    u = f_x u_n + c_x\\\\\n",
    "    v = f_y v_n + c_y\\\\\n",
    "   $\n",
    "</p>\n",
    "<br>\n"
   ]
  },
  {
   "cell_type": "markdown",
   "metadata": {},
   "source": [
    "# Implementacija"
   ]
  },
  {
   "cell_type": "code",
   "execution_count": 18,
   "metadata": {},
   "outputs": [],
   "source": [
    "from matplotlib import pyplot as plt\n",
    "import numpy as np\n",
    "\n",
    "import os\n",
    "import sys\n",
    "import collections\n",
    "import struct\n",
    "\n",
    "import cv2\n",
    "\n",
    "from skimage.transform import FundamentalMatrixTransform"
   ]
  },
  {
   "cell_type": "markdown",
   "metadata": {},
   "source": [
    "### Pomoćna skripta za učitavanje podataka o kameri i slika"
   ]
  },
  {
   "cell_type": "code",
   "execution_count": 19,
   "metadata": {},
   "outputs": [],
   "source": [
    "\"\"\"\n",
    "Preuzeto sa https://www.eth3d.net/documentation\n",
    "Pomocna skripta za ucitavanje podataka o kameri i slika\n",
    "\"\"\"\n",
    "CameraModel = collections.namedtuple(\n",
    "    \"CameraModel\", [\"model_id\", \"model_name\", \"num_params\"])\n",
    "Camera = collections.namedtuple(\n",
    "    \"Camera\", [\"id\", \"model\", \"width\", \"height\", \"params\"])\n",
    "BaseImage = collections.namedtuple(\n",
    "    \"Image\", [\"id\", \"qvec\", \"tvec\", \"camera_id\", \"name\", \"xys\", \"point3D_ids\"])\n",
    "Point3D = collections.namedtuple(\n",
    "    \"Point3D\", [\"id\", \"xyz\", \"rgb\", \"error\", \"image_ids\", \"point2D_idxs\"])\n",
    "\n",
    "CAMERA_MODELS = {\n",
    "    CameraModel(model_id=0, model_name=\"SIMPLE_PINHOLE\", num_params=3),\n",
    "    CameraModel(model_id=1, model_name=\"PINHOLE\", num_params=4),\n",
    "    CameraModel(model_id=2, model_name=\"SIMPLE_RADIAL\", num_params=4),\n",
    "    CameraModel(model_id=3, model_name=\"RADIAL\", num_params=5),\n",
    "    CameraModel(model_id=4, model_name=\"OPENCV\", num_params=8),\n",
    "    CameraModel(model_id=5, model_name=\"OPENCV_FISHEYE\", num_params=8),\n",
    "    CameraModel(model_id=6, model_name=\"FULL_OPENCV\", num_params=12),\n",
    "    CameraModel(model_id=7, model_name=\"FOV\", num_params=5),\n",
    "    CameraModel(model_id=8, model_name=\"SIMPLE_RADIAL_FISHEYE\", num_params=4),\n",
    "    CameraModel(model_id=9, model_name=\"RADIAL_FISHEYE\", num_params=5),\n",
    "    CameraModel(model_id=10, model_name=\"THIN_PRISM_FISHEYE\", num_params=12)\n",
    "}\n",
    "CAMERA_MODEL_IDS = dict([(camera_model.model_id, camera_model) for camera_model in CAMERA_MODELS])\n",
    "\n",
    "class Image(BaseImage):\n",
    "    def qvec2rotmat(self):\n",
    "        return qvec2rotmat(self.qvec)\n",
    "\n",
    "def read_cameras_text(path):\n",
    "    cameras = {}\n",
    "    with open(path, \"r\") as fid:\n",
    "        while True:\n",
    "            line = fid.readline()\n",
    "            if not line:\n",
    "                break\n",
    "            line = line.strip()\n",
    "            if len(line) > 0 and line[0] != \"#\":\n",
    "                elems = line.split()\n",
    "                camera_id = int(elems[0])\n",
    "                model = elems[1]\n",
    "                width = int(elems[2])\n",
    "                height = int(elems[3])\n",
    "                params = np.array(tuple(map(float, elems[4:])))\n",
    "                cameras[camera_id] = Camera(id=camera_id, model=model,\n",
    "                                            width=width, height=height,\n",
    "                                            params=params)\n",
    "    return cameras\n",
    "\n",
    "def read_images_text(path):\n",
    "    images = {}\n",
    "    with open(path, \"r\") as fid:\n",
    "        while True:\n",
    "            line = fid.readline()\n",
    "            if not line:\n",
    "                break\n",
    "            line = line.strip()\n",
    "            if len(line) > 0 and line[0] != \"#\":\n",
    "                elems = line.split()\n",
    "                image_id = int(elems[0])\n",
    "                qvec = np.array(tuple(map(float, elems[1:5])))\n",
    "                tvec = np.array(tuple(map(float, elems[5:8])))\n",
    "                camera_id = int(elems[8])\n",
    "                image_name = elems[9]\n",
    "                elems = fid.readline().split()\n",
    "                xys = np.column_stack([tuple(map(float, elems[0::3])),\n",
    "                                       tuple(map(float, elems[1::3]))])\n",
    "                point3D_ids = np.array(tuple(map(int, elems[2::3])))\n",
    "                images[image_id] = Image(\n",
    "                    id=image_id, qvec=qvec, tvec=tvec,\n",
    "                    camera_id=camera_id, name=image_name,\n",
    "                    xys=xys, point3D_ids=point3D_ids)\n",
    "    return images\n",
    "\n",
    "def read_points3D_text(path):\n",
    "    points3D = {}\n",
    "    with open(path, \"r\") as fid:\n",
    "        while True:\n",
    "            line = fid.readline()\n",
    "            if not line:\n",
    "                break\n",
    "            line = line.strip()\n",
    "            if len(line) > 0 and line[0] != \"#\":\n",
    "                elems = line.split()\n",
    "                point3D_id = int(elems[0])\n",
    "                xyz = np.array(tuple(map(float, elems[1:4])))\n",
    "                rgb = np.array(tuple(map(int, elems[4:7])))\n",
    "                error = float(elems[7])\n",
    "                image_ids = np.array(tuple(map(int, elems[8::2])))\n",
    "                point2D_idxs = np.array(tuple(map(int, elems[9::2])))\n",
    "                points3D[point3D_id] = Point3D(id=point3D_id, xyz=xyz, rgb=rgb,\n",
    "                                               error=error, image_ids=image_ids,\n",
    "                                               point2D_idxs=point2D_idxs)\n",
    "    return points3D\n",
    "\n",
    "def qvec2rotmat(qvec):\n",
    "    return np.array([\n",
    "        [1 - 2 * qvec[2]**2 - 2 * qvec[3]**2,\n",
    "         2 * qvec[1] * qvec[2] - 2 * qvec[0] * qvec[3],\n",
    "         2 * qvec[3] * qvec[1] + 2 * qvec[0] * qvec[2]],\n",
    "        [2 * qvec[1] * qvec[2] + 2 * qvec[0] * qvec[3],\n",
    "         1 - 2 * qvec[1]**2 - 2 * qvec[3]**2,\n",
    "         2 * qvec[2] * qvec[3] - 2 * qvec[0] * qvec[1]],\n",
    "        [2 * qvec[3] * qvec[1] - 2 * qvec[0] * qvec[2],\n",
    "         2 * qvec[2] * qvec[3] + 2 * qvec[0] * qvec[1],\n",
    "         1 - 2 * qvec[1]**2 - 2 * qvec[2]**2]])\n",
    "\n",
    "\n",
    "def rotmat2qvec(R):\n",
    "    Rxx, Ryx, Rzx, Rxy, Ryy, Rzy, Rxz, Ryz, Rzz = R.flat\n",
    "    K = np.array([\n",
    "        [Rxx - Ryy - Rzz, 0, 0, 0],\n",
    "        [Ryx + Rxy, Ryy - Rxx - Rzz, 0, 0],\n",
    "        [Rzx + Rxz, Rzy + Ryz, Rzz - Rxx - Ryy, 0],\n",
    "        [Ryz - Rzy, Rzx - Rxz, Rxy - Ryx, Rxx + Ryy + Rzz]]) / 3.0\n",
    "    eigvals, eigvecs = np.linalg.eigh(K)\n",
    "    qvec = eigvecs[[3, 0, 1, 2], np.argmax(eigvals)]\n",
    "    if qvec[0] < 0:\n",
    "        qvec *= -1\n",
    "    return qvec\n",
    "\n",
    "\n",
    "def read_model(path):\n",
    "    cameras = read_cameras_text(os.path.join(path, \"cameras.txt\"))\n",
    "    images = read_images_text(os.path.join(path, \"images.txt\"))\n",
    "    points3D = read_points3D_text(os.path.join(path, \"points3D.txt\"))\n",
    "    return cameras, images, points3D"
   ]
  },
  {
   "cell_type": "code",
   "execution_count": null,
   "metadata": {},
   "outputs": [],
   "source": []
  },
  {
   "cell_type": "code",
   "execution_count": 9,
   "metadata": {},
   "outputs": [],
   "source": [
    "folder = 'multi_view_training_dslr_jpg/'\n",
    "image_set = 'courtyard/'\n",
    "info_folder = folder + image_set + 'dslr_calibration_jpg/'"
   ]
  },
  {
   "cell_type": "markdown",
   "metadata": {},
   "source": [
    "### Učitavanje slika i podataka pomoću skripte"
   ]
  },
  {
   "cell_type": "code",
   "execution_count": 11,
   "metadata": {},
   "outputs": [],
   "source": [
    "camera_info, images_info, points_info = read_model(info_folder)\n",
    "# Loading images in a list\n",
    "images = list(list())\n",
    "for dirName, subdirList, fileList in os.walk(folder + image_set + 'images/dslr_images/'):\n",
    "    for fname in fileList:\n",
    "        images.append(['dslr_images/' + fname, cv2.imread(dirName + fname)])"
   ]
  },
  {
   "cell_type": "code",
   "execution_count": null,
   "metadata": {},
   "outputs": [],
   "source": []
  },
  {
   "cell_type": "code",
   "execution_count": null,
   "metadata": {},
   "outputs": [],
   "source": [
    "\"\"\"\n",
    "\"Camera\", [\"id\", \"model\", \"width\", \"height\", \"params\"]\n",
    "\"Image\", [\"id\", \"qvec\", \"tvec\", \"camera_id\", \"name\", \"xys\", \"point3D_ids\"]\n",
    "\"Point3D\", [\"id\", \"xyz\", \"rgb\", \"error\", \"image_ids\", \"point2D_idxs\"]\n",
    "\"\"\""
   ]
  },
  {
   "cell_type": "code",
   "execution_count": null,
   "metadata": {},
   "outputs": [],
   "source": []
  },
  {
   "cell_type": "markdown",
   "metadata": {},
   "source": [
    "# Vršenje undistorcije slika"
   ]
  },
  {
   "cell_type": "code",
   "execution_count": 16,
   "metadata": {},
   "outputs": [
    {
     "name": "stdout",
     "output_type": "stream",
     "text": [
      "Current picture is 'dslr_images/DSC_0311.JPG'\n",
      "Caluclating maps....\n",
      "Remaping image....\n",
      "Saving picture und_dslr_images/DSC_0311.JPG\n",
      "True\n"
     ]
    }
   ],
   "source": [
    "number_of_pictures = 1\n",
    "destinations = list()\n",
    "for image in images:\n",
    "    \n",
    "    if number_of_pictures < 1:\n",
    "        break\n",
    "    number_of_pictures -= 1\n",
    "    \n",
    "    # Fiding data about picture\n",
    "    for i in images_info:\n",
    "        if images_info[i].name == image[0]:\n",
    "            image_data = images_info[i]\n",
    "            break\n",
    "\n",
    "    # Finding camera for given picture stored in camera_data\n",
    "    for i in camera_info:\n",
    "        if camera_info[i].id == image_data.camera_id:\n",
    "            camera_data = camera_info[i]\n",
    "\n",
    "    # Loading camera params and distortion coeff\n",
    "    fx, fy, cx, cy, k1, k2, p1, p2, k3, k4, sx1, sy1 = camera_data.params    \n",
    "\n",
    "    # Grouping camera and distortion coeff\n",
    "    dist_coeff = np.array([k1,k2,p1,p2,k3, k4,  sx1, sy1 ])\n",
    "    cam_matx = np.array([[fx,0,cx],[0,fy,cy],[0,0,1]])\n",
    "#     Rot = np.array(image_data.qvec)\n",
    "#     Tran = np.array(image_data.tvec)\n",
    "    \n",
    "    print(\"Current picture is \\'%s\\'\" % image[0])\n",
    "    \n",
    "    img = image[1]\n",
    "    h,  w = img.shape[:2]\n",
    "    \n",
    "    # Used for comparison from lib cv2\n",
    "    #####################################################################################################\n",
    "    # new_camera_mtx, roi=cv2.getOptimalNewCameraMatrix(cam_matx,dist_coeff,(w,h),1,(w,h))\n",
    "    # mapx, mapy = cv2.initUndistortRectifyMap(cam_matx, dist_coeff2, None, None, (w,h), cv2.CV_32FC1)\n",
    "    # dst = cv2.remap(img, mapx, mapy, cv2.INTER_LINEAR)\n",
    "    # cv2.imwrite('calibresultc_v2.png',dst)\n",
    "    #####################################################################################################\n",
    "    \n",
    "    \n",
    "    # Caluclating maps of X and Y pixels\n",
    "    print(\"Caluclating maps....\")\n",
    "    myMpx, myMpy = initUndistortRectifyMap_fisheye(cam_matx, dist_coeff, (w,h))\n",
    "    \n",
    "    # Remaping new image with given maps of pixels\n",
    "    print(\"Remaping image....\")\n",
    "    dst = cv2.remap(img, myMpx, myMpy, cv2.INTER_LINEAR)\n",
    "    destinations.append(dst)\n",
    "    \n",
    "    print(\"Saving picture und_%s\"%(image[0]))\n",
    "    print(cv2.imwrite('undistort_resault_' + str(number_of_pictures) + '.png',dst))\n",
    "    \n",
    "    "
   ]
  },
  {
   "cell_type": "markdown",
   "metadata": {},
   "source": [
    "**cv2.remap**\n",
    "Funkcija izvodi različite geometrijske transformacije 2D slika. Ona ne menja sadržaj slike, već deformiše rešetku piksela i mapiraju ovu deformisanu mrežu na odredišnu sliku. Zapravo, da bi se izbeglo uzorkovanje artefakata(previše izlaznih piksela zavisi od jednog ulaznog piksela.), mapiranje se vrši obrnutim redosledom, od odredišta do izvora. To jest, za svaki piksel (x, y) odredišne slike, funkcia izračunava koordinate odgovarajućeg piksela „donora“ u izvornoj slici i kopiraju vrednost piksela:\n",
    "<br>\n",
    "<p style=\"text-align: center;\"> $dst(x,y) = src(f_x(x,y), f_y(x,y))$ </p>\n",
    "<br>\n",
    "U slučaju kada je odredjeno preslikavanje unapred $\\left<g_x, g_y\\right>: \\texttt{src} \\rightarrow \\texttt{dst}$, funkcije OpenCV prvo izračunaju odgovarajuće obrnuto mapiranje $\\left<f_x, f_y\\right>: \\texttt{dst} \\rightarrow \\texttt{src}$, a zatim iskoristite gornju formulu"
   ]
  },
  {
   "cell_type": "code",
   "execution_count": 13,
   "metadata": {},
   "outputs": [],
   "source": [
    "def initUndistortRectifyMap_pinhole(camMat, dCoeff, size):\n",
    "    \"\"\"\n",
    "    return map_x, map_y\n",
    "    \"\"\"\n",
    "    \n",
    "    w, h = size\n",
    "    \n",
    "    # making new camera matrix, but alpha caluclations are missing\n",
    "    newCMat = camMat\n",
    "    newCMat[0][2] = (w-1)*0.5\n",
    "    newCMat[1][2] = (h-1)*0.5\n",
    "    \n",
    "    # u0 = cx , v0  = cy\n",
    "    fx = camMat[0][0]\n",
    "    fy = camMat[1][1]\n",
    "    \n",
    "    cx = camMat[0][2]\n",
    "    cy = camMat[1][2]\n",
    "    \n",
    "    \n",
    "    \n",
    "    k1, k2, p1, p2, k3 = dCoeff\n",
    "    k4 = k5 = k6 = 0\n",
    "        \n",
    "    mapx = np.ones((w,h))\n",
    "    mapy = np.ones((w,h))\n",
    "    \n",
    "    mapx = mapx.astype('float32')\n",
    "    mapy = mapy.astype('float32')\n",
    "    \n",
    "\n",
    "    for i in range(0,w):\n",
    "        u = i\n",
    "        x = (u - newCMat[0][2]) / newCMat[0][0]\n",
    "        x2 = x*x\n",
    "        for j in range(0,h):\n",
    "            v = j\n",
    "\n",
    "            y = (v - newCMat[1][2]) / newCMat[1][1]\n",
    "\n",
    "            #Rot matrix currently identity\n",
    "#             [x, y, w] = np.dot(np.linalg.inv([[1,0,0],[0,1,0],[0,0,1]]),np.transpose([x,y,1]))\n",
    "\n",
    "            y2 = y*y;\n",
    "            r2 = x2 + y2\n",
    "            _2xy = 2*x*y;\n",
    "\n",
    "            kr = (1 + ((k3*r2 + k2)*r2 + k1)*r2)/(1 + ((k6*r2 + k5)*r2 + k4)*r2);\n",
    "            \n",
    "            u = fx*(x*kr + p1*_2xy + p2*(r2 + 2*x2)) + cx;\n",
    "            v = fy*(y*kr + p1*(r2 + 2*y2) + p2*_2xy) + cy;\n",
    "\n",
    "            mapx[i][j] = u\n",
    "            mapy[i][j] = v\n",
    "\n",
    "    return np.transpose(mapx), np.transpose(mapy)\n"
   ]
  },
  {
   "cell_type": "code",
   "execution_count": 14,
   "metadata": {},
   "outputs": [],
   "source": [
    "\n",
    "def initUndistortRectifyMap_fisheye(camMat, dCoeff, size):\n",
    "    \"\"\"\n",
    "    return map_x, map_y\n",
    "    \"\"\"\n",
    "    \n",
    "    w, h = size\n",
    "    \n",
    "    # making new camera matrix, but alpha caluclations are missing\n",
    "    newCMat = camMat\n",
    "    newCMat[0][2] = (w-1)*0.5\n",
    "    newCMat[1][2] = (h-1)*0.5\n",
    "    \n",
    "\n",
    "    fx = camMat[0][0]\n",
    "    fy = camMat[1][1]\n",
    "    \n",
    "    cx = camMat[0][2]\n",
    "    cy = camMat[1][2]\n",
    "    \n",
    "    k1, k2, p1, p2, k3, k4, sx1, sx2 = dCoeff\n",
    "        \n",
    "    mapx = np.ones((w,h)).astype('float32')\n",
    "    mapy = np.ones((w,h)).astype('float32')\n",
    "    \n",
    "#     mapx = mapx.astype('float32')\n",
    "#     mapy = mapy.astype('float32')\n",
    "    \n",
    "\n",
    "    for i in range(0,w):\n",
    "        u = i\n",
    "        x = (u - newCMat[0][2]) / newCMat[0][0]\n",
    "        x2 = x*x\n",
    "        for j in range(0,h):\n",
    "            v = j\n",
    "\n",
    "            y = (v - newCMat[1][2]) / newCMat[1][1]\n",
    "\n",
    "            #Rot matrix currently identity\n",
    "#           [x, y, w] = np.dot(np.linalg.inv([[1,0,0],[0,1,0],[0,0,1]]),np.transpose([x,y,1]))\n",
    "\n",
    "            y2 = y*y;\n",
    "            r2 = x2 + y2\n",
    "            \n",
    "            tao = np.arctan(np.sqrt(r2))\n",
    "            tao2 = tao**2\n",
    "            \n",
    "            ud = tao/np.sqrt(r2) * x\n",
    "            vd = tao/np.sqrt(r2) * y\n",
    "\n",
    "#             tr = 1 + k1*tao**2 + k2*tao**4 + k3*tao**6 + k4 * tao**8\n",
    "            tr = 1 + tao2*(k1 + tao2*(k2 + tao2*(k3 + tao2*k4)))\n",
    "\n",
    "    \n",
    "            u = fx*(ud*tr + 2*p1*ud*vd+p2*(tao**2+2*ud**2)+sx1*tao**2) + cx;\n",
    "            v = fy*(vd*tr + 2*p2*ud*vd+p1*(tao**2+2*vd**2)+sy1*tao**2) + cy;\n",
    "\n",
    "            mapx[i][j] = u\n",
    "            mapy[i][j] = v\n",
    "\n",
    "    return np.transpose(mapx), np.transpose(mapy)"
   ]
  },
  {
   "cell_type": "markdown",
   "metadata": {},
   "source": [
    "Nakon izvšavanja koda dobijaju se neke od sledećih slika:"
   ]
  },
  {
   "cell_type": "markdown",
   "metadata": {},
   "source": [
    "<img src=\"assets/undistort_resault_1.png\" width=\"800px\">\n",
    "<img src=\"assets/distort_resault_1.JPG\" width=\"800px\">\n"
   ]
  },
  {
   "cell_type": "markdown",
   "metadata": {},
   "source": [
    "<img src=\"assets/undistort_resault_2.png\" width=\"800px\">\n",
    "<img src=\"assets/distort_resault_2.JPG\" width=\"800px\">\n"
   ]
  },
  {
   "cell_type": "code",
   "execution_count": null,
   "metadata": {},
   "outputs": [],
   "source": []
  }
 ],
 "metadata": {
  "kernelspec": {
   "display_name": "Python 3",
   "language": "python",
   "name": "python3"
  },
  "language_info": {
   "codemirror_mode": {
    "name": "ipython",
    "version": 3
   },
   "file_extension": ".py",
   "mimetype": "text/x-python",
   "name": "python",
   "nbconvert_exporter": "python",
   "pygments_lexer": "ipython3",
   "version": "3.7.4"
  }
 },
 "nbformat": 4,
 "nbformat_minor": 4
}
