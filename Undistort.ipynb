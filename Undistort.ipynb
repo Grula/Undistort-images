{
 "cells": [
  {
   "cell_type": "code",
   "execution_count": 6,
   "metadata": {},
   "outputs": [],
   "source": [
    "from PIL import Image as IMG\n",
    "\n",
    "from matplotlib import pyplot as plt\n",
    "import numpy as np\n",
    "\n",
    "import os\n",
    "import sys\n",
    "import collections\n",
    "import struct\n",
    "\n",
    "import cv2\n",
    "\n",
    "from skimage.transform import FundamentalMatrixTransform"
   ]
  },
  {
   "cell_type": "code",
   "execution_count": 7,
   "metadata": {},
   "outputs": [],
   "source": [
    "\"\"\"\n",
    "Preuzeto sa https://www.eth3d.net/documentation\n",
    "Pomocna skripta za ucitavanje podataka o kameri i slika\n",
    "\"\"\"\n",
    "CameraModel = collections.namedtuple(\n",
    "    \"CameraModel\", [\"model_id\", \"model_name\", \"num_params\"])\n",
    "Camera = collections.namedtuple(\n",
    "    \"Camera\", [\"id\", \"model\", \"width\", \"height\", \"params\"])\n",
    "BaseImage = collections.namedtuple(\n",
    "    \"Image\", [\"id\", \"qvec\", \"tvec\", \"camera_id\", \"name\", \"xys\", \"point3D_ids\"])\n",
    "Point3D = collections.namedtuple(\n",
    "    \"Point3D\", [\"id\", \"xyz\", \"rgb\", \"error\", \"image_ids\", \"point2D_idxs\"])\n",
    "\n",
    "CAMERA_MODELS = {\n",
    "    CameraModel(model_id=0, model_name=\"SIMPLE_PINHOLE\", num_params=3),\n",
    "    CameraModel(model_id=1, model_name=\"PINHOLE\", num_params=4),\n",
    "    CameraModel(model_id=2, model_name=\"SIMPLE_RADIAL\", num_params=4),\n",
    "    CameraModel(model_id=3, model_name=\"RADIAL\", num_params=5),\n",
    "    CameraModel(model_id=4, model_name=\"OPENCV\", num_params=8),\n",
    "    CameraModel(model_id=5, model_name=\"OPENCV_FISHEYE\", num_params=8),\n",
    "    CameraModel(model_id=6, model_name=\"FULL_OPENCV\", num_params=12),\n",
    "    CameraModel(model_id=7, model_name=\"FOV\", num_params=5),\n",
    "    CameraModel(model_id=8, model_name=\"SIMPLE_RADIAL_FISHEYE\", num_params=4),\n",
    "    CameraModel(model_id=9, model_name=\"RADIAL_FISHEYE\", num_params=5),\n",
    "    CameraModel(model_id=10, model_name=\"THIN_PRISM_FISHEYE\", num_params=12)\n",
    "}\n",
    "CAMERA_MODEL_IDS = dict([(camera_model.model_id, camera_model) for camera_model in CAMERA_MODELS])\n",
    "\n",
    "class Image(BaseImage):\n",
    "    def qvec2rotmat(self):\n",
    "        return qvec2rotmat(self.qvec)\n",
    "\n",
    "def read_cameras_text(path):\n",
    "    cameras = {}\n",
    "    with open(path, \"r\") as fid:\n",
    "        while True:\n",
    "            line = fid.readline()\n",
    "            if not line:\n",
    "                break\n",
    "            line = line.strip()\n",
    "            if len(line) > 0 and line[0] != \"#\":\n",
    "                elems = line.split()\n",
    "                camera_id = int(elems[0])\n",
    "                model = elems[1]\n",
    "                width = int(elems[2])\n",
    "                height = int(elems[3])\n",
    "                params = np.array(tuple(map(float, elems[4:])))\n",
    "                cameras[camera_id] = Camera(id=camera_id, model=model,\n",
    "                                            width=width, height=height,\n",
    "                                            params=params)\n",
    "    return cameras\n",
    "\n",
    "def read_images_text(path):\n",
    "    images = {}\n",
    "    with open(path, \"r\") as fid:\n",
    "        while True:\n",
    "            line = fid.readline()\n",
    "            if not line:\n",
    "                break\n",
    "            line = line.strip()\n",
    "            if len(line) > 0 and line[0] != \"#\":\n",
    "                elems = line.split()\n",
    "                image_id = int(elems[0])\n",
    "                qvec = np.array(tuple(map(float, elems[1:5])))\n",
    "                tvec = np.array(tuple(map(float, elems[5:8])))\n",
    "                camera_id = int(elems[8])\n",
    "                image_name = elems[9]\n",
    "                elems = fid.readline().split()\n",
    "                xys = np.column_stack([tuple(map(float, elems[0::3])),\n",
    "                                       tuple(map(float, elems[1::3]))])\n",
    "                point3D_ids = np.array(tuple(map(int, elems[2::3])))\n",
    "                images[image_id] = Image(\n",
    "                    id=image_id, qvec=qvec, tvec=tvec,\n",
    "                    camera_id=camera_id, name=image_name,\n",
    "                    xys=xys, point3D_ids=point3D_ids)\n",
    "    return images\n",
    "\n",
    "def read_points3D_text(path):\n",
    "    points3D = {}\n",
    "    with open(path, \"r\") as fid:\n",
    "        while True:\n",
    "            line = fid.readline()\n",
    "            if not line:\n",
    "                break\n",
    "            line = line.strip()\n",
    "            if len(line) > 0 and line[0] != \"#\":\n",
    "                elems = line.split()\n",
    "                point3D_id = int(elems[0])\n",
    "                xyz = np.array(tuple(map(float, elems[1:4])))\n",
    "                rgb = np.array(tuple(map(int, elems[4:7])))\n",
    "                error = float(elems[7])\n",
    "                image_ids = np.array(tuple(map(int, elems[8::2])))\n",
    "                point2D_idxs = np.array(tuple(map(int, elems[9::2])))\n",
    "                points3D[point3D_id] = Point3D(id=point3D_id, xyz=xyz, rgb=rgb,\n",
    "                                               error=error, image_ids=image_ids,\n",
    "                                               point2D_idxs=point2D_idxs)\n",
    "    return points3D\n",
    "\n",
    "def qvec2rotmat(qvec):\n",
    "    return np.array([\n",
    "        [1 - 2 * qvec[2]**2 - 2 * qvec[3]**2,\n",
    "         2 * qvec[1] * qvec[2] - 2 * qvec[0] * qvec[3],\n",
    "         2 * qvec[3] * qvec[1] + 2 * qvec[0] * qvec[2]],\n",
    "        [2 * qvec[1] * qvec[2] + 2 * qvec[0] * qvec[3],\n",
    "         1 - 2 * qvec[1]**2 - 2 * qvec[3]**2,\n",
    "         2 * qvec[2] * qvec[3] - 2 * qvec[0] * qvec[1]],\n",
    "        [2 * qvec[3] * qvec[1] - 2 * qvec[0] * qvec[2],\n",
    "         2 * qvec[2] * qvec[3] + 2 * qvec[0] * qvec[1],\n",
    "         1 - 2 * qvec[1]**2 - 2 * qvec[2]**2]])\n",
    "\n",
    "\n",
    "def rotmat2qvec(R):\n",
    "    Rxx, Ryx, Rzx, Rxy, Ryy, Rzy, Rxz, Ryz, Rzz = R.flat\n",
    "    K = np.array([\n",
    "        [Rxx - Ryy - Rzz, 0, 0, 0],\n",
    "        [Ryx + Rxy, Ryy - Rxx - Rzz, 0, 0],\n",
    "        [Rzx + Rxz, Rzy + Ryz, Rzz - Rxx - Ryy, 0],\n",
    "        [Ryz - Rzy, Rzx - Rxz, Rxy - Ryx, Rxx + Ryy + Rzz]]) / 3.0\n",
    "    eigvals, eigvecs = np.linalg.eigh(K)\n",
    "    qvec = eigvecs[[3, 0, 1, 2], np.argmax(eigvals)]\n",
    "    if qvec[0] < 0:\n",
    "        qvec *= -1\n",
    "    return qvec\n",
    "\n",
    "\n",
    "def read_model(path):\n",
    "    cameras = read_cameras_text(os.path.join(path, \"cameras.txt\"))\n",
    "    images = read_images_text(os.path.join(path, \"images.txt\"))\n",
    "    points3D = read_points3D_text(os.path.join(path, \"points3D.txt\"))\n",
    "    return cameras, images, points3D"
   ]
  },
  {
   "cell_type": "code",
   "execution_count": 180,
   "metadata": {},
   "outputs": [],
   "source": [
    "folder = 'multi_view_training_dslr_jpg/'\n",
    "image_set = 'courtyard/'\n",
    "info_folder = folder + image_set + 'dslr_calibration_jpg/'"
   ]
  },
  {
   "cell_type": "code",
   "execution_count": 181,
   "metadata": {},
   "outputs": [],
   "source": [
    "\n",
    "camera_info, images_info, points_info = read_model(info_folder)\n",
    "# Loading images in a list\n",
    "images = list(list())\n",
    "for dirName, subdirList, fileList in os.walk(folder + image_set + 'images/dslr_images/'):\n",
    "    for fname in fileList:\n",
    "        images.append(['dslr_images/' + fname, cv2.imread(dirName + fname)])#IMG.open(dirName + fname)])\n",
    "        break # currently testing on one image"
   ]
  },
  {
   "cell_type": "code",
   "execution_count": null,
   "metadata": {},
   "outputs": [],
   "source": []
  },
  {
   "cell_type": "code",
   "execution_count": 10,
   "metadata": {},
   "outputs": [
    {
     "name": "stdout",
     "output_type": "stream",
     "text": [
      "\n"
     ]
    }
   ],
   "source": [
    "\"\"\"\n",
    "\"Camera\", [\"id\", \"model\", \"width\", \"height\", \"params\"]\n",
    "\"Image\", [\"id\", \"qvec\", \"tvec\", \"camera_id\", \"name\", \"xys\", \"point3D_ids\"]\n",
    "\"Point3D\", [\"id\", \"xyz\", \"rgb\", \"error\", \"image_ids\", \"point2D_idxs\"]\n",
    "\"\"\"\n",
    "print()"
   ]
  },
  {
   "cell_type": "code",
   "execution_count": null,
   "metadata": {},
   "outputs": [],
   "source": []
  },
  {
   "cell_type": "markdown",
   "metadata": {},
   "source": [
    "# Loading distortion model for picture from camera"
   ]
  },
  {
   "cell_type": "code",
   "execution_count": 185,
   "metadata": {},
   "outputs": [],
   "source": [
    "image = images[0]\n",
    "\n",
    "# Fiding data about picture\n",
    "for i in images_info:\n",
    "    if images_info[i].name == image[0]:\n",
    "        image_data = images_info[i]\n",
    "        break\n",
    "\n",
    "# Finding camera for given picture stored in camera_data\n",
    "for i in camera_info:\n",
    "    if camera_info[i].id == image_data.camera_id:\n",
    "        camera_data = camera_info[i]\n",
    "\n",
    "# Loading camera params\n",
    "fx, fy, cx, cy, k1, k2, p1, p2, k3, k4, sx1, sx2 = camera_data.params    \n",
    "\n",
    "dist_coeff = np.array([k1,k2,p1,p2,k3])#,k4])#,  sx1, sy1 ])\n",
    "dist_coeff2 = np.array([k1,k2,p1,p2,k3, k4,  sx1, sy1 ])\n",
    "cam_matx = np.array([[fx,0,cx],[0,fy,cy],[0,0,1]])\n",
    "Rot = np.array(image_data.qvec)\n",
    "Tran = np.array(image_data.tvec)\n",
    "\n",
    "# cv2.new"
   ]
  },
  {
   "cell_type": "code",
   "execution_count": 125,
   "metadata": {},
   "outputs": [
    {
     "name": "stdout",
     "output_type": "stream",
     "text": [
      "Current picture is 'dslr_images/DSC_0311.JPG'\n"
     ]
    }
   ],
   "source": [
    "print(\"Current picture is \\'%s\\'\" % image[0])"
   ]
  },
  {
   "cell_type": "code",
   "execution_count": 126,
   "metadata": {},
   "outputs": [],
   "source": [
    "# R = np.asmatrix([[Rot[2],Rot[3],0], [Rot[1],Rot[2],0],[0,0,1]]) # not correct"
   ]
  },
  {
   "cell_type": "code",
   "execution_count": 127,
   "metadata": {},
   "outputs": [
    {
     "name": "stdout",
     "output_type": "stream",
     "text": [
      "[[3.95848706e+03 0.00000000e+00 3.03367162e+03]\n",
      " [0.00000000e+00 3.67414819e+03 2.01179569e+03]\n",
      " [0.00000000e+00 0.00000000e+00 1.00000000e+00]]\n",
      "[[3.40958e+03 0.00000e+00 3.03634e+03]\n",
      " [0.00000e+00 3.40944e+03 2.01330e+03]\n",
      " [0.00000e+00 0.00000e+00 1.00000e+00]]\n"
     ]
    }
   ],
   "source": [
    "img = image[1]\n",
    "h,  w = img.shape[:2]\n",
    "#implemet?\n",
    "new_camera_mtx, roi=cv2.getOptimalNewCameraMatrix(cam_matx,dist_coeff,(w,h),1,(w,h))\n",
    "print(new_camera_mtx)\n",
    "print(cam_matx)"
   ]
  },
  {
   "cell_type": "code",
   "execution_count": 194,
   "metadata": {},
   "outputs": [],
   "source": [
    "# Calcualting for comparison\n",
    "mapx, mapy = cv2.initUndistortRectifyMap(cam_matx, dist_coeff2, None, None, (w,h), cv2.CV_32FC1)"
   ]
  },
  {
   "cell_type": "code",
   "execution_count": 196,
   "metadata": {},
   "outputs": [
    {
     "ename": "SyntaxError",
     "evalue": "invalid syntax (<ipython-input-196-770ef751bb8f>, line 115)",
     "output_type": "error",
     "traceback": [
      "\u001b[0;36m  File \u001b[0;32m\"<ipython-input-196-770ef751bb8f>\"\u001b[0;36m, line \u001b[0;32m115\u001b[0m\n\u001b[0;31m    |\u001b[0m\n\u001b[0m    ^\u001b[0m\n\u001b[0;31mSyntaxError\u001b[0m\u001b[0;31m:\u001b[0m invalid syntax\n"
     ]
    }
   ],
   "source": [
    "def initUndistortRectifyMap_pinhole(camMat, dCoeff, size):\n",
    "    \"\"\"\n",
    "    return map_x, map_y\n",
    "    \"\"\"\n",
    "    \n",
    "    w, h = size\n",
    "    \n",
    "    # making new camera matrix, but alpha caluclations are missing\n",
    "    newCMat = camMat\n",
    "    newCMat[0][2] = (w-1)*0.5\n",
    "    newCMat[1][2] = (h-1)*0.5\n",
    "    \n",
    "    # u0 = cx , v0  = cy\n",
    "    fx = camMat[0][0]\n",
    "    fy = camMat[1][1]\n",
    "    \n",
    "    cx = camMat[0][2]\n",
    "    cy = camMat[1][2]\n",
    "    \n",
    "    \n",
    "    \n",
    "    k1, k2, p1, p2, k3 = dCoeff\n",
    "    k4 = k5 = k6 = 0\n",
    "        \n",
    "    mapx = np.ones((w,h))\n",
    "    mapy = np.ones((w,h))\n",
    "    \n",
    "    mapx = mapx.astype('float32')\n",
    "    mapy = mapy.astype('float32')\n",
    "    \n",
    "\n",
    "    for i in range(0,w):\n",
    "        u = i\n",
    "        x = (u - newCMat[0][2]) / newCMat[0][0]\n",
    "        x2 = x*x\n",
    "        for j in range(0,h):\n",
    "            v = j\n",
    "\n",
    "            y = (v - newCMat[1][2]) / newCMat[1][1]\n",
    "\n",
    "            #Rot matrix currently identity\n",
    "#             [x, y, w] = np.dot(np.linalg.inv([[1,0,0],[0,1,0],[0,0,1]]),np.transpose([x,y,1]))\n",
    "\n",
    "            y2 = y*y;\n",
    "            r2 = x2 + y2\n",
    "            _2xy = 2*x*y;\n",
    "\n",
    "            kr = (1 + ((k3*r2 + k2)*r2 + k1)*r2)/(1 + ((k6*r2 + k5)*r2 + k4)*r2);\n",
    "            \n",
    "            u = fx*(x*kr + p1*_2xy + p2*(r2 + 2*x2)) + cx;\n",
    "            v = fy*(y*kr + p1*(r2 + 2*y2) + p2*_2xy) + cy;\n",
    "\n",
    "            mapx[i][j] = u\n",
    "            mapy[i][j] = v\n",
    "\n",
    "    return np.transpose(mapx), np.transpose(mapy)\n",
    "\n",
    "def initUndistortRectifyMap_fisheye(camMat, dCoeff, size):\n",
    "    \"\"\"\n",
    "    return map_x, map_y\n",
    "    \"\"\"\n",
    "    \n",
    "    w, h = size\n",
    "    \n",
    "    # making new camera matrix, but alpha caluclations are missing\n",
    "    newCMat = camMat\n",
    "    newCMat[0][2] = (w-1)*0.5\n",
    "    newCMat[1][2] = (h-1)*0.5\n",
    "    \n",
    "    # u0 = cx , v0  = cy\n",
    "    fx = camMat[0][0]\n",
    "    fy = camMat[1][1]\n",
    "    \n",
    "    cx = camMat[0][2]\n",
    "    cy = camMat[1][2]\n",
    "    \n",
    "    \n",
    "    \n",
    "    k1, k2, p1, p2, k3, k4,sx1,sx2 = dCoeff\n",
    "#     k4 = k5 = k6 = 0\n",
    "        \n",
    "    mapx = np.ones((w,h))\n",
    "    mapy = np.ones((w,h))\n",
    "    \n",
    "    mapx = mapx.astype('float32')\n",
    "    mapy = mapy.astype('float32')\n",
    "    \n",
    "\n",
    "    for i in range(0,w):\n",
    "        u = i\n",
    "        x = (u - newCMat[0][2]) / newCMat[0][0]\n",
    "        x2 = x*x\n",
    "        for j in range(0,h):\n",
    "            v = j\n",
    "\n",
    "            y = (v - newCMat[1][2]) / newCMat[1][1]\n",
    "\n",
    "            #Rot matrix currently identity\n",
    "#             [x, y, w] = np.dot(np.linalg.inv([[1,0,0],[0,1,0],[0,0,1]]),np.transpose([x,y,1]))\n",
    "\n",
    "            y2 = y*y;\n",
    "            r2 = x2 + y2\n",
    "            \n",
    "            tao = np.arctan(np.sqrt(r2))\n",
    "            tao2 = tao**2\n",
    "            \n",
    "            ud = tao/np.sqrt(r2) * x\n",
    "            vd = tao/np.sqrt(r2) * y\n",
    "\n",
    "#             tr = 1 + k1*tao**2 + k2*tao**4 + k3*tao**6 + k4 * tao**8\n",
    "            tr = 1 + tao2*(k1 + tao2*(k2 + tao2*(k3 + tao2*k4)))\n",
    "\n",
    "    \n",
    "            u = fx*(ud*tr + 2*p1*ud*vd+p2*(tao**2+2*ud**2)+sx1*tao**2) + cx;\n",
    "            v = fy*(vd*tr + 2*p2*ud*vd+p1*(tao**2+2*vd**2)+sy1*tao**2) + cy;\n",
    "\n",
    "            mapx[i][j] = u\n",
    "            mapy[i][j] = v\n",
    "\n",
    "    return np.transpose(mapx), np.transpose(mapy)"
   ]
  },
  {
   "cell_type": "code",
   "execution_count": 169,
   "metadata": {},
   "outputs": [],
   "source": [
    "myMpx, myMpy = initUndistortRectifyMap_pinhole(cam_matx, dist_coeff, (w,h))"
   ]
  },
  {
   "cell_type": "code",
   "execution_count": 193,
   "metadata": {},
   "outputs": [
    {
     "ename": "KeyboardInterrupt",
     "evalue": "",
     "output_type": "error",
     "traceback": [
      "\u001b[0;31m---------------------------------------------------------------------------\u001b[0m",
      "\u001b[0;31mKeyboardInterrupt\u001b[0m                         Traceback (most recent call last)",
      "\u001b[0;32m<ipython-input-193-0bcea564044a>\u001b[0m in \u001b[0;36m<module>\u001b[0;34m\u001b[0m\n\u001b[0;32m----> 1\u001b[0;31m \u001b[0mmyMpx\u001b[0m\u001b[0;34m,\u001b[0m \u001b[0mmyMpy\u001b[0m \u001b[0;34m=\u001b[0m \u001b[0minitUndistortRectifyMap_fisheye\u001b[0m\u001b[0;34m(\u001b[0m\u001b[0mcam_matx\u001b[0m\u001b[0;34m,\u001b[0m \u001b[0mdist_coeff2\u001b[0m\u001b[0;34m,\u001b[0m \u001b[0;34m(\u001b[0m\u001b[0mw\u001b[0m\u001b[0;34m,\u001b[0m\u001b[0mh\u001b[0m\u001b[0;34m)\u001b[0m\u001b[0;34m)\u001b[0m\u001b[0;34m\u001b[0m\u001b[0;34m\u001b[0m\u001b[0m\n\u001b[0m",
      "\u001b[0;32m<ipython-input-192-7b49ad51d66d>\u001b[0m in \u001b[0;36minitUndistortRectifyMap_fisheye\u001b[0;34m(camMat, dCoeff, size)\u001b[0m\n\u001b[1;32m    116\u001b[0m \u001b[0;34m\u001b[0m\u001b[0m\n\u001b[1;32m    117\u001b[0m \u001b[0;34m\u001b[0m\u001b[0m\n\u001b[0;32m--> 118\u001b[0;31m             \u001b[0mu\u001b[0m \u001b[0;34m=\u001b[0m \u001b[0mfx\u001b[0m\u001b[0;34m*\u001b[0m\u001b[0;34m(\u001b[0m\u001b[0mud\u001b[0m\u001b[0;34m*\u001b[0m\u001b[0mtr\u001b[0m \u001b[0;34m+\u001b[0m \u001b[0;36m2\u001b[0m\u001b[0;34m*\u001b[0m\u001b[0mp1\u001b[0m\u001b[0;34m*\u001b[0m\u001b[0mud\u001b[0m\u001b[0;34m*\u001b[0m\u001b[0mvd\u001b[0m\u001b[0;34m+\u001b[0m\u001b[0mp2\u001b[0m\u001b[0;34m*\u001b[0m\u001b[0;34m(\u001b[0m\u001b[0mtao\u001b[0m\u001b[0;34m**\u001b[0m\u001b[0;36m2\u001b[0m\u001b[0;34m+\u001b[0m\u001b[0;36m2\u001b[0m\u001b[0;34m*\u001b[0m\u001b[0mud\u001b[0m\u001b[0;34m**\u001b[0m\u001b[0;36m2\u001b[0m\u001b[0;34m)\u001b[0m\u001b[0;34m+\u001b[0m\u001b[0msx1\u001b[0m\u001b[0;34m*\u001b[0m\u001b[0mtao\u001b[0m\u001b[0;34m**\u001b[0m\u001b[0;36m2\u001b[0m\u001b[0;34m)\u001b[0m \u001b[0;34m+\u001b[0m \u001b[0mcx\u001b[0m\u001b[0;34m;\u001b[0m\u001b[0;34m\u001b[0m\u001b[0;34m\u001b[0m\u001b[0m\n\u001b[0m\u001b[1;32m    119\u001b[0m             \u001b[0mv\u001b[0m \u001b[0;34m=\u001b[0m \u001b[0mfy\u001b[0m\u001b[0;34m*\u001b[0m\u001b[0;34m(\u001b[0m\u001b[0mvd\u001b[0m\u001b[0;34m*\u001b[0m\u001b[0mtr\u001b[0m \u001b[0;34m+\u001b[0m \u001b[0;36m2\u001b[0m\u001b[0;34m*\u001b[0m\u001b[0mp2\u001b[0m\u001b[0;34m*\u001b[0m\u001b[0mud\u001b[0m\u001b[0;34m*\u001b[0m\u001b[0mvd\u001b[0m\u001b[0;34m+\u001b[0m\u001b[0mp1\u001b[0m\u001b[0;34m*\u001b[0m\u001b[0;34m(\u001b[0m\u001b[0mtao\u001b[0m\u001b[0;34m**\u001b[0m\u001b[0;36m2\u001b[0m\u001b[0;34m+\u001b[0m\u001b[0;36m2\u001b[0m\u001b[0;34m*\u001b[0m\u001b[0mvd\u001b[0m\u001b[0;34m**\u001b[0m\u001b[0;36m2\u001b[0m\u001b[0;34m)\u001b[0m\u001b[0;34m+\u001b[0m\u001b[0msy1\u001b[0m\u001b[0;34m*\u001b[0m\u001b[0mtao\u001b[0m\u001b[0;34m**\u001b[0m\u001b[0;36m2\u001b[0m\u001b[0;34m)\u001b[0m \u001b[0;34m+\u001b[0m \u001b[0mcy\u001b[0m\u001b[0;34m;\u001b[0m\u001b[0;34m\u001b[0m\u001b[0;34m\u001b[0m\u001b[0m\n\u001b[1;32m    120\u001b[0m \u001b[0;34m\u001b[0m\u001b[0m\n",
      "\u001b[0;31mKeyboardInterrupt\u001b[0m: "
     ]
    }
   ],
   "source": [
    "myMpx, myMpy = initUndistortRectifyMap_fisheye(cam_matx, dist_coeff2, (w,h))"
   ]
  },
  {
   "cell_type": "code",
   "execution_count": 195,
   "metadata": {},
   "outputs": [
    {
     "data": {
      "text/plain": [
       "True"
      ]
     },
     "execution_count": 195,
     "metadata": {},
     "output_type": "execute_result"
    }
   ],
   "source": [
    "# myMpx = np.transpose(myMpx)\n",
    "# myMpy = np.transpose(myMpy)\n",
    "\n",
    "dst = cv2.remap(img, myMpx, myMpy, cv2.INTER_LINEAR)\n",
    "cv2.imwrite('calibresult.png',dst)\n",
    "dst = cv2.remap(img, mapx, mapy, cv2.INTER_LINEAR)\n",
    "cv2.imwrite('calibresultcv2.png',dst)\n"
   ]
  },
  {
   "cell_type": "code",
   "execution_count": null,
   "metadata": {},
   "outputs": [],
   "source": []
  },
  {
   "cell_type": "code",
   "execution_count": 19,
   "metadata": {},
   "outputs": [
    {
     "data": {
      "text/plain": [
       "True"
      ]
     },
     "execution_count": 19,
     "metadata": {},
     "output_type": "execute_result"
    }
   ],
   "source": [
    "# undistort for comparison\n",
    "dst = cv2.undistort(img, cam_matx, dist_coeff, None)\n",
    "cv2.imwrite('calibresult_undistort.png',dst)"
   ]
  },
  {
   "cell_type": "code",
   "execution_count": null,
   "metadata": {},
   "outputs": [],
   "source": []
  },
  {
   "cell_type": "markdown",
   "metadata": {},
   "source": [
    "\n",
    "   \\begin{array}{l}\n",
    "   x  \\leftarrow (u - {c'}_x)/{f'}_x  \\\\\n",
    "   y  \\leftarrow (v - {c'}_y)/{f'}_y  \\\\\n",
    "   {[X\\,Y\\,W]} ^T  \\leftarrow R^{-1}*[x \\, y \\, 1]^T  \\\\\n",
    "   x'  \\leftarrow X/W  \\\\\n",
    "   y'  \\leftarrow Y/W  \\\\\n",
    "   r^2  \\leftarrow x'^2 + y'^2 \\\\\n",
    "   x''  \\leftarrow x' \\frac{1 + k_1 r^2 + k_2 r^4 + k_3 r^6}{1 + k_4 r^2 + k_5 r^4 + k_6 r^6}\n",
    "   + 2p_1 x' y' + p_2(r^2 + 2 x'^2)  + s_1 r^2 + s_2 r^4\\\\\n",
    "   y''  \\leftarrow y' \\frac{1 + k_1 r^2 + k_2 r^4 + k_3 r^6}{1 + k_4 r^2 + k_5 r^4 + k_6 r^6}\n",
    "   + p_1 (r^2 + 2 y'^2) + 2 p_2 x' y' + s_3 r^2 + s_4 r^4 \\\\\n",
    "   s\\vecthree{x'''}{y'''}{1} = \\vecthreethree{R_{33}(\\tau_x, \\tau_y)}{0}{-R_{13}((\\tau_x, \\tau_y)}{0}{R_{33}(\\tau_x, \\tau_y)}{-R_{23}(\\tau_x, \\tau_y)}{0}{0}{1} R(\\tau_x, \\tau_y) \\vecthree{x''}{y''}{1}\\\\\n",
    "   map_x(u,v)  \\leftarrow x''' f_x + c_x  \\\\\n",
    "   map_y(u,v)  \\leftarrow y''' f_y + c_y\n",
    "   \\end{array}\n",
    "   where (k_1, k_2, p_1, p_2[, k_3[, k_4, k_5, k_6[, s_1, s_2, s_3, s_4[, \\tau_x, \\tau_y]]]])"
   ]
  },
  {
   "cell_type": "code",
   "execution_count": null,
   "metadata": {},
   "outputs": [],
   "source": []
  },
  {
   "cell_type": "markdown",
   "metadata": {},
   "source": [
    "# Below code is not correct [ignore] /facepalm"
   ]
  },
  {
   "cell_type": "code",
   "execution_count": 8,
   "metadata": {},
   "outputs": [
    {
     "name": "stdout",
     "output_type": "stream",
     "text": [
      "Picture name: dslr_images/DSC_0311.JPG\n"
     ]
    },
    {
     "data": {
      "image/png": "[encoded data removed]",
      "text/plain": [
       "<Figure size 432x288 with 1 Axes>"
      ]
     },
     "metadata": {
      "needs_background": "light"
     },
     "output_type": "display_data"
    }
   ],
   "source": [
    "for img in images:\n",
    "    print(\"Picture name: %s\" %(img[0]))\n",
    "    \n",
    "    # Transforming image into np.array\n",
    "    current_image = np.array(img[1])\n",
    "    \n",
    "    \n",
    "    # Fiding data about our picture\n",
    "    for i in images_info:\n",
    "        if images_info[i].name == img[0]:\n",
    "            image_data = images_info[i]\n",
    "            break\n",
    "\n",
    "    #data stored in camera_data\n",
    "    for i in camera_info:\n",
    "        if camera_info[i].id == image_data.camera_id:\n",
    "            camera_data = camera_info[i]\n",
    "    \n",
    "    #extracting camera params\n",
    "    fx, fy, cx, cy, k1, k2, p1, p2, k3, k4, sx1, sy1 = camera_data.params    \n",
    "    \n",
    "    for i,xys in enumerate(image_data.xys):\n",
    "        \n",
    "        # 1) If the z-coordinate of the point is smaller than or equal to zero, the point is unobserved.\n",
    "        if image_data.point3D_ids[i] <= 0:\n",
    "            continue\n",
    "        else:\n",
    "            pix_x, pix_y = int(xys[0]),int(xys[1])\n",
    "            z_id = image_data.point3D_ids[i]\n",
    "            for i in points_info:\n",
    "                if z_id == points_info[i].id:\n",
    "                    x, y, z = points_info[i].xyz\n",
    "                    r, g, b = points_info[i].rgb\n",
    "                    break\n",
    "#         if z <= 0:\n",
    "#                 new_image[pix_x][pix_y] = [r,g,b]\n",
    "#             continue\n",
    "\n",
    "#         print(\"Pixel location (%d,%d)\"%(pix_x,pix_y))\n",
    "#         current_image[pix_x][pix_y] = [r,g,b]\n",
    "\n",
    "        # 2) Project the point onto the virtual image plane by dividing its x and y coordinates by its z coordinate,\n",
    "        # resulting in the un-distorted x and y values (xd,yd)\n",
    "\n",
    "        \n",
    "        # Tranforming coordiantes from Global system\n",
    "#         x,y,z = np.array([x, y, z]).dot(image_data.qvec2rotmat())\n",
    "#         x,y,z = [x,y,z] + image_data.tvec\n",
    "        \n",
    "        x_d = x/z\n",
    "        y_d = y/z\n",
    "\n",
    "#         print(\"x_d: %f, y_d: %f\" % (x_d,y_d))\n",
    "        \n",
    "        # 3) Apply the equidistant radial distortion model to get (ud,vd)\n",
    "        \n",
    "        rad = np.sqrt(x_d**2 + y_d**2)\n",
    "        tao = np.arctan(rad)\n",
    "        u_d = tao/rad * x_d\n",
    "        v_d = tao/rad * y_d\n",
    "        \n",
    "# #         print('r: %f, tao: %f, ud: %f, vd: %f' %(r,tao,u_d,v_d))\n",
    "        \n",
    "#         # 4) Apply further distortion to get distorted normalized image coordinates (un,vn):\n",
    "        \n",
    "        t_r = 1 + k1*tao**2 + k2*tao**4 + k3*tao**6 + k4*tao**8\n",
    "        \n",
    "        u_n = u_d*t_r + 2*p1*(u_d*v_d) + p2*(tao**2 + 2*u_d**2) + sx1*tao**2\n",
    "        v_n = u_d*t_r + 2*p2*(u_d*v_d) + p1*(tao**2 + 2*v_d**2) + sy1*tao**2\n",
    "        \n",
    "#         print('tr: %f,un: %f, vn: %f' %(t_r,u_n,v_n))\n",
    "    \n",
    "        # 5) Convert to pixel coordinates  (u,v):\n",
    "        \n",
    "        u = int(fx * u_n + cx)\n",
    "        v = int(fy * v_n + cy)\n",
    "#         u = int(fx * x_d+ cx)\n",
    "#         v = int(fy * y_d + cy)\n",
    "#         plt.plot(u,v,'r.', ms = 0.5)\n",
    "        plt.plot(pix_x,-pix_y,'b.', ms = 0.5)\n",
    "#         print(\"u: %d, v: %d\"%(u,v))\n",
    "        \n",
    "        # this is not correct\n",
    "        if camera_data.width > v and v >= 0 and u >=0 and camera_data.height > u:\n",
    "            current_image[u][v] = [r,g,b]\n",
    "\n",
    "#     undistorted_images.append(IMG.fromarray(new_image))\n",
    "    plt.show()\n",
    "    break"
   ]
  },
  {
   "cell_type": "code",
   "execution_count": null,
   "metadata": {},
   "outputs": [],
   "source": []
  },
  {
   "cell_type": "code",
   "execution_count": null,
   "metadata": {},
   "outputs": [],
   "source": []
  },
  {
   "cell_type": "code",
   "execution_count": null,
   "metadata": {},
   "outputs": [],
   "source": []
  },
  {
   "cell_type": "code",
   "execution_count": null,
   "metadata": {},
   "outputs": [],
   "source": []
  },
  {
   "cell_type": "code",
   "execution_count": null,
   "metadata": {},
   "outputs": [],
   "source": []
  },
  {
   "cell_type": "code",
   "execution_count": null,
   "metadata": {},
   "outputs": [],
   "source": []
  },
  {
   "cell_type": "code",
   "execution_count": null,
   "metadata": {},
   "outputs": [],
   "source": []
  },
  {
   "cell_type": "code",
   "execution_count": null,
   "metadata": {},
   "outputs": [],
   "source": []
  },
  {
   "cell_type": "code",
   "execution_count": null,
   "metadata": {},
   "outputs": [],
   "source": []
  },
  {
   "cell_type": "code",
   "execution_count": null,
   "metadata": {},
   "outputs": [],
   "source": []
  },
  {
   "cell_type": "code",
   "execution_count": null,
   "metadata": {},
   "outputs": [],
   "source": []
  },
  {
   "cell_type": "code",
   "execution_count": null,
   "metadata": {},
   "outputs": [],
   "source": []
  },
  {
   "cell_type": "code",
   "execution_count": null,
   "metadata": {},
   "outputs": [],
   "source": []
  }
 ],
 "metadata": {
  "kernelspec": {
   "display_name": "Python 3",
   "language": "python",
   "name": "python3"
  },
  "language_info": {
   "codemirror_mode": {
    "name": "ipython",
    "version": 3
   },
   "file_extension": ".py",
   "mimetype": "text/x-python",
   "name": "python",
   "nbconvert_exporter": "python",
   "pygments_lexer": "ipython3",
   "version": "3.7.4"
  }
 },
 "nbformat": 4,
 "nbformat_minor": 4
}
